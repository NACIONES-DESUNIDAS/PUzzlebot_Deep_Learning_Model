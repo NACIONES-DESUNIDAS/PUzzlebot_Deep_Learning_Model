{
  "nbformat": 4,
  "nbformat_minor": 0,
  "metadata": {
    "colab": {
      "name": "PuzzlebotModel",
      "provenance": [],
      "collapsed_sections": []
    },
    "kernelspec": {
      "name": "python3",
      "display_name": "Python 3"
    },
    "language_info": {
      "name": "python"
    },
    "accelerator": "GPU"
  },
  "cells": [
    {
      "cell_type": "code",
      "execution_count": 1,
      "metadata": {
        "id": "btSXgoK5Of17"
      },
      "outputs": [],
      "source": [
        "import numpy as np\n",
        "import cv2\n",
        "import matplotlib.pyplot as plt\n",
        "import pandas as pd\n",
        "\n",
        "#from tensorflow.keras import models, layers, optimizers\n",
        "from tensorflow.keras.preprocessing.image import ImageDataGenerator\n",
        "from tensorflow.keras.callbacks import EarlyStopping, ModelCheckpoint\n",
        "from tensorflow.keras.models import Model, Sequential\n",
        "from tensorflow.keras.layers import Input, Dense, Flatten, Conv2D, MaxPooling3D , Dropout, Conv2D,MaxPool2D,MaxPooling2D\n",
        "from sklearn.model_selection import train_test_split\n",
        "from tensorflow.keras.utils import to_categorical\n",
        "\n",
        "import os, glob, random, math\n",
        "import shutil\n",
        "\n",
        "from shutil import copyfile,copy"
      ]
    },
    {
      "cell_type": "code",
      "source": [
        "from google.colab import drive\n",
        "drive.mount('/content/drive')"
      ],
      "metadata": {
        "id": "SOdrvNAWQyfr",
        "colab": {
          "base_uri": "https://localhost:8080/"
        },
        "outputId": "e57314fe-8b1d-4f38-ab1c-b9c2984f778e"
      },
      "execution_count": 2,
      "outputs": [
        {
          "output_type": "stream",
          "name": "stdout",
          "text": [
            "Mounted at /content/drive\n"
          ]
        }
      ]
    },
    {
      "cell_type": "code",
      "source": [
        "IMG_SHAPE = (150,150,1)\n",
        "IMG_TUPPLE_SHAPE = (150,150)\n",
        "BATCH_SIZE= 128"
      ],
      "metadata": {
        "id": "7lLRaHyYX6uO"
      },
      "execution_count": 3,
      "outputs": []
    },
    {
      "cell_type": "code",
      "source": [
        "! git clone https://github.com/NACIONES-DESUNIDAS/Dataset_Raw.git"
      ],
      "metadata": {
        "id": "yPUusdEkTAbf",
        "colab": {
          "base_uri": "https://localhost:8080/"
        },
        "outputId": "d4aa2b4d-0fcd-4274-b065-41de3129b36b"
      },
      "execution_count": 4,
      "outputs": [
        {
          "output_type": "stream",
          "name": "stdout",
          "text": [
            "Cloning into 'Dataset_Raw'...\n",
            "remote: Enumerating objects: 3703, done.\u001b[K\n",
            "remote: Counting objects: 100% (3703/3703), done.\u001b[K\n",
            "remote: Compressing objects: 100% (3695/3695), done.\u001b[K\n",
            "remote: Total 3703 (delta 8), reused 3703 (delta 8), pack-reused 0\u001b[K\n",
            "Receiving objects: 100% (3703/3703), 26.97 MiB | 29.38 MiB/s, done.\n",
            "Resolving deltas: 100% (8/8), done.\n"
          ]
        }
      ]
    },
    {
      "cell_type": "code",
      "source": [
        "DATASET_NAME = \"Dataset_Raw\"\n",
        "DRIVE_PATH = \"/content/drive/Shareddrives/Semestre6\"\n",
        "DATASET_PATH = os.path.join(\"/content/\",DATASET_NAME)\n",
        "MODEL_CHECKPOINTS = \"MODEL_CHECKPOINTS_OCTAVIO\"\n",
        "MODEL_SAVE_DIRECTORY = os.path.join(DRIVE_PATH,MODEL_CHECKPOINTS)\n",
        "DATASET_FOLDERS = [\"00014\",\"00032\",\"00033\",\"00034\",\"00035\",\"00040\"]\n",
        "IMAGE_FOLDER_PATHS = [os.path.join(os.path.join(DATASET_PATH,folder),\"*.*\") for folder in DATASET_FOLDERS]\n",
        "IMAGE_LABELS = [\"stop_signal\",\"aplastame\",\"right_signal\",\"left_signal\",\"up_signal\",\"around_signal\"]  ###\n",
        "RESET = \"/content/\""
      ],
      "metadata": {
        "id": "W1paCsd2TPS0"
      },
      "execution_count": 5,
      "outputs": []
    },
    {
      "cell_type": "code",
      "source": [
        "IMAGE_FOLDER_PATHS"
      ],
      "metadata": {
        "id": "RPbHQc5hkEwp",
        "colab": {
          "base_uri": "https://localhost:8080/"
        },
        "outputId": "f61b2269-cb82-4b5d-aa37-7e494706a0a7"
      },
      "execution_count": 6,
      "outputs": [
        {
          "output_type": "execute_result",
          "data": {
            "text/plain": [
              "['/content/Dataset_Raw/00014/*.*',\n",
              " '/content/Dataset_Raw/00032/*.*',\n",
              " '/content/Dataset_Raw/00033/*.*',\n",
              " '/content/Dataset_Raw/00034/*.*',\n",
              " '/content/Dataset_Raw/00035/*.*',\n",
              " '/content/Dataset_Raw/00040/*.*']"
            ]
          },
          "metadata": {},
          "execution_count": 6
        }
      ]
    },
    {
      "cell_type": "code",
      "source": [
        "imagePathLists = [glob.glob(path) for path in IMAGE_FOLDER_PATHS]"
      ],
      "metadata": {
        "id": "5W9zURsUUH2G"
      },
      "execution_count": 7,
      "outputs": []
    },
    {
      "cell_type": "code",
      "source": [
        "def imageProcessing(image):\n",
        "  image = image.astype(np.uint8)\n",
        "  #gray = cv2.cvtColor(image,cv2.COLOR_BGR2GRAY)\n",
        "  gray = cv2.equalizeHist(image)\n",
        "  gray = cv2.resize(gray,(150,150))\n",
        "  gray = gray.reshape(150,150,1)\n",
        "  return gray.astype(np.float64)/255"
      ],
      "metadata": {
        "id": "0cnrnrnAdtbw"
      },
      "execution_count": 8,
      "outputs": []
    },
    {
      "cell_type": "code",
      "source": [
        "def readImages(imageList):\n",
        "  images = list()\n",
        "  for path in imageList:\n",
        "    if path.split(\".\")[-1] == \"csv\":\n",
        "      continue\n",
        "    image = cv2.imread(path)\n",
        "    image = imageProcessing(image)\n",
        "    images.append(image)\n",
        "  return images"
      ],
      "metadata": {
        "id": "gFHg1wGHazY6"
      },
      "execution_count": 9,
      "outputs": []
    },
    {
      "cell_type": "code",
      "source": [
        "def imageDataAumentationReshape(img):\n",
        "    return img.reshape(150,150,1)"
      ],
      "metadata": {
        "id": "FOelzDNCoYlX"
      },
      "execution_count": 10,
      "outputs": []
    },
    {
      "cell_type": "code",
      "source": [
        "def getImageDataframe(imageList,index):\n",
        "  labels = [IMAGE_LABELS[index]] * len(imageList)\n",
        "  return pd.DataFrame({\"images\":imageList,\"label\":labels})\n",
        "  \n",
        "  \n"
      ],
      "metadata": {
        "id": "XX_4u8sSXnOC"
      },
      "execution_count": 11,
      "outputs": []
    },
    {
      "cell_type": "code",
      "source": [
        "# obtener una lista de listas de imagenes preprocesadas por cada folder\n",
        "#imageLists = [readImages(pathList) for pathList in imagePathLists]"
      ],
      "metadata": {
        "id": "hQe5KwX4mUKu"
      },
      "execution_count": 12,
      "outputs": []
    },
    {
      "cell_type": "code",
      "source": [
        "#len(imageLists)"
      ],
      "metadata": {
        "id": "M0IXel1gq7OT"
      },
      "execution_count": 13,
      "outputs": []
    },
    {
      "cell_type": "code",
      "source": [
        "# obtener una lista de dataframes donde se agrupa cada imagen con su label respectivo\n",
        "dataFrames = [getImageDataframe(imagePathLists[i],i) for i in range(len(imagePathLists))]"
      ],
      "metadata": {
        "id": "9kgVX-8Pd_1o"
      },
      "execution_count": 14,
      "outputs": []
    },
    {
      "cell_type": "code",
      "source": [
        "def mergeDataFrames(dataFrames):\n",
        "  initial = dataFrames[0]\n",
        "  for i in range(1,len(dataFrames)):\n",
        "    initial = pd.merge(initial, dataFrames[i],  how='outer', left_on=['labels'], right_on = ['labels'])\n"
      ],
      "metadata": {
        "id": "z8iihyi8n9xZ"
      },
      "execution_count": 15,
      "outputs": []
    },
    {
      "cell_type": "code",
      "source": [
        "dataset = pd.concat(dataFrames,ignore_index=True)"
      ],
      "metadata": {
        "id": "PDVtutNuvvRL"
      },
      "execution_count": 16,
      "outputs": []
    },
    {
      "cell_type": "code",
      "source": [
        "dataset.head()"
      ],
      "metadata": {
        "id": "I_lYhENxv94r",
        "colab": {
          "base_uri": "https://localhost:8080/",
          "height": 206
        },
        "outputId": "ca08f843-7bfa-469e-d645-bc37800c8aea"
      },
      "execution_count": 17,
      "outputs": [
        {
          "output_type": "execute_result",
          "data": {
            "text/plain": [
              "                                       images        label\n",
              "0  /content/Dataset_Raw/00014/00000_00023.ppm  stop_signal\n",
              "1  /content/Dataset_Raw/00014/00004_00002.ppm  stop_signal\n",
              "2  /content/Dataset_Raw/00014/00016_00021.ppm  stop_signal\n",
              "3  /content/Dataset_Raw/00014/00001_00015.ppm  stop_signal\n",
              "4  /content/Dataset_Raw/00014/00016_00016.ppm  stop_signal"
            ],
            "text/html": [
              "\n",
              "  <div id=\"df-f6187a29-9434-4aad-bdb5-0e2822ea7a56\">\n",
              "    <div class=\"colab-df-container\">\n",
              "      <div>\n",
              "<style scoped>\n",
              "    .dataframe tbody tr th:only-of-type {\n",
              "        vertical-align: middle;\n",
              "    }\n",
              "\n",
              "    .dataframe tbody tr th {\n",
              "        vertical-align: top;\n",
              "    }\n",
              "\n",
              "    .dataframe thead th {\n",
              "        text-align: right;\n",
              "    }\n",
              "</style>\n",
              "<table border=\"1\" class=\"dataframe\">\n",
              "  <thead>\n",
              "    <tr style=\"text-align: right;\">\n",
              "      <th></th>\n",
              "      <th>images</th>\n",
              "      <th>label</th>\n",
              "    </tr>\n",
              "  </thead>\n",
              "  <tbody>\n",
              "    <tr>\n",
              "      <th>0</th>\n",
              "      <td>/content/Dataset_Raw/00014/00000_00023.ppm</td>\n",
              "      <td>stop_signal</td>\n",
              "    </tr>\n",
              "    <tr>\n",
              "      <th>1</th>\n",
              "      <td>/content/Dataset_Raw/00014/00004_00002.ppm</td>\n",
              "      <td>stop_signal</td>\n",
              "    </tr>\n",
              "    <tr>\n",
              "      <th>2</th>\n",
              "      <td>/content/Dataset_Raw/00014/00016_00021.ppm</td>\n",
              "      <td>stop_signal</td>\n",
              "    </tr>\n",
              "    <tr>\n",
              "      <th>3</th>\n",
              "      <td>/content/Dataset_Raw/00014/00001_00015.ppm</td>\n",
              "      <td>stop_signal</td>\n",
              "    </tr>\n",
              "    <tr>\n",
              "      <th>4</th>\n",
              "      <td>/content/Dataset_Raw/00014/00016_00016.ppm</td>\n",
              "      <td>stop_signal</td>\n",
              "    </tr>\n",
              "  </tbody>\n",
              "</table>\n",
              "</div>\n",
              "      <button class=\"colab-df-convert\" onclick=\"convertToInteractive('df-f6187a29-9434-4aad-bdb5-0e2822ea7a56')\"\n",
              "              title=\"Convert this dataframe to an interactive table.\"\n",
              "              style=\"display:none;\">\n",
              "        \n",
              "  <svg xmlns=\"http://www.w3.org/2000/svg\" height=\"24px\"viewBox=\"0 0 24 24\"\n",
              "       width=\"24px\">\n",
              "    <path d=\"M0 0h24v24H0V0z\" fill=\"none\"/>\n",
              "    <path d=\"M18.56 5.44l.94 2.06.94-2.06 2.06-.94-2.06-.94-.94-2.06-.94 2.06-2.06.94zm-11 1L8.5 8.5l.94-2.06 2.06-.94-2.06-.94L8.5 2.5l-.94 2.06-2.06.94zm10 10l.94 2.06.94-2.06 2.06-.94-2.06-.94-.94-2.06-.94 2.06-2.06.94z\"/><path d=\"M17.41 7.96l-1.37-1.37c-.4-.4-.92-.59-1.43-.59-.52 0-1.04.2-1.43.59L10.3 9.45l-7.72 7.72c-.78.78-.78 2.05 0 2.83L4 21.41c.39.39.9.59 1.41.59.51 0 1.02-.2 1.41-.59l7.78-7.78 2.81-2.81c.8-.78.8-2.07 0-2.86zM5.41 20L4 18.59l7.72-7.72 1.47 1.35L5.41 20z\"/>\n",
              "  </svg>\n",
              "      </button>\n",
              "      \n",
              "  <style>\n",
              "    .colab-df-container {\n",
              "      display:flex;\n",
              "      flex-wrap:wrap;\n",
              "      gap: 12px;\n",
              "    }\n",
              "\n",
              "    .colab-df-convert {\n",
              "      background-color: #E8F0FE;\n",
              "      border: none;\n",
              "      border-radius: 50%;\n",
              "      cursor: pointer;\n",
              "      display: none;\n",
              "      fill: #1967D2;\n",
              "      height: 32px;\n",
              "      padding: 0 0 0 0;\n",
              "      width: 32px;\n",
              "    }\n",
              "\n",
              "    .colab-df-convert:hover {\n",
              "      background-color: #E2EBFA;\n",
              "      box-shadow: 0px 1px 2px rgba(60, 64, 67, 0.3), 0px 1px 3px 1px rgba(60, 64, 67, 0.15);\n",
              "      fill: #174EA6;\n",
              "    }\n",
              "\n",
              "    [theme=dark] .colab-df-convert {\n",
              "      background-color: #3B4455;\n",
              "      fill: #D2E3FC;\n",
              "    }\n",
              "\n",
              "    [theme=dark] .colab-df-convert:hover {\n",
              "      background-color: #434B5C;\n",
              "      box-shadow: 0px 1px 3px 1px rgba(0, 0, 0, 0.15);\n",
              "      filter: drop-shadow(0px 1px 2px rgba(0, 0, 0, 0.3));\n",
              "      fill: #FFFFFF;\n",
              "    }\n",
              "  </style>\n",
              "\n",
              "      <script>\n",
              "        const buttonEl =\n",
              "          document.querySelector('#df-f6187a29-9434-4aad-bdb5-0e2822ea7a56 button.colab-df-convert');\n",
              "        buttonEl.style.display =\n",
              "          google.colab.kernel.accessAllowed ? 'block' : 'none';\n",
              "\n",
              "        async function convertToInteractive(key) {\n",
              "          const element = document.querySelector('#df-f6187a29-9434-4aad-bdb5-0e2822ea7a56');\n",
              "          const dataTable =\n",
              "            await google.colab.kernel.invokeFunction('convertToInteractive',\n",
              "                                                     [key], {});\n",
              "          if (!dataTable) return;\n",
              "\n",
              "          const docLinkHtml = 'Like what you see? Visit the ' +\n",
              "            '<a target=\"_blank\" href=https://colab.research.google.com/notebooks/data_table.ipynb>data table notebook</a>'\n",
              "            + ' to learn more about interactive tables.';\n",
              "          element.innerHTML = '';\n",
              "          dataTable['output_type'] = 'display_data';\n",
              "          await google.colab.output.renderOutput(dataTable, element);\n",
              "          const docLink = document.createElement('div');\n",
              "          docLink.innerHTML = docLinkHtml;\n",
              "          element.appendChild(docLink);\n",
              "        }\n",
              "      </script>\n",
              "    </div>\n",
              "  </div>\n",
              "  "
            ]
          },
          "metadata": {},
          "execution_count": 17
        }
      ]
    },
    {
      "cell_type": "code",
      "source": [
        "class2Label = dict()\n",
        "label2Class = dict()\n",
        "for i in range(len(IMAGE_LABELS)):\n",
        "  class2Label[IMAGE_LABELS[i]] = i+1\n",
        "  label2Class[i+1] = IMAGE_LABELS[i]"
      ],
      "metadata": {
        "id": "S8bNk_h4LV68"
      },
      "execution_count": 18,
      "outputs": []
    },
    {
      "cell_type": "code",
      "source": [
        "print(class2Label)\n",
        "print(label2Class)"
      ],
      "metadata": {
        "id": "pcjH9kktMICZ",
        "colab": {
          "base_uri": "https://localhost:8080/"
        },
        "outputId": "4a191319-816d-4d65-fd1c-faa65a725daf"
      },
      "execution_count": 19,
      "outputs": [
        {
          "output_type": "stream",
          "name": "stdout",
          "text": [
            "{'stop_signal': 1, 'aplastame': 2, 'right_signal': 3, 'left_signal': 4, 'up_signal': 5, 'around_signal': 6}\n",
            "{1: 'stop_signal', 2: 'aplastame', 3: 'right_signal', 4: 'left_signal', 5: 'up_signal', 6: 'around_signal'}\n"
          ]
        }
      ]
    },
    {
      "cell_type": "code",
      "source": [
        "dataset[\"encoding\"] = dataset[\"label\"].apply(lambda x:class2Label[x])"
      ],
      "metadata": {
        "id": "xxwxse1aMRy_"
      },
      "execution_count": 20,
      "outputs": []
    },
    {
      "cell_type": "code",
      "source": [
        "dataset.head()"
      ],
      "metadata": {
        "id": "XPV7ZgnJMjGq",
        "colab": {
          "base_uri": "https://localhost:8080/",
          "height": 206
        },
        "outputId": "69fcba81-5bc3-449f-b071-0006d7335ad1"
      },
      "execution_count": 21,
      "outputs": [
        {
          "output_type": "execute_result",
          "data": {
            "text/plain": [
              "                                       images        label  encoding\n",
              "0  /content/Dataset_Raw/00014/00000_00023.ppm  stop_signal         1\n",
              "1  /content/Dataset_Raw/00014/00004_00002.ppm  stop_signal         1\n",
              "2  /content/Dataset_Raw/00014/00016_00021.ppm  stop_signal         1\n",
              "3  /content/Dataset_Raw/00014/00001_00015.ppm  stop_signal         1\n",
              "4  /content/Dataset_Raw/00014/00016_00016.ppm  stop_signal         1"
            ],
            "text/html": [
              "\n",
              "  <div id=\"df-19384eee-adc7-4d8a-b4bb-2eecca7f0035\">\n",
              "    <div class=\"colab-df-container\">\n",
              "      <div>\n",
              "<style scoped>\n",
              "    .dataframe tbody tr th:only-of-type {\n",
              "        vertical-align: middle;\n",
              "    }\n",
              "\n",
              "    .dataframe tbody tr th {\n",
              "        vertical-align: top;\n",
              "    }\n",
              "\n",
              "    .dataframe thead th {\n",
              "        text-align: right;\n",
              "    }\n",
              "</style>\n",
              "<table border=\"1\" class=\"dataframe\">\n",
              "  <thead>\n",
              "    <tr style=\"text-align: right;\">\n",
              "      <th></th>\n",
              "      <th>images</th>\n",
              "      <th>label</th>\n",
              "      <th>encoding</th>\n",
              "    </tr>\n",
              "  </thead>\n",
              "  <tbody>\n",
              "    <tr>\n",
              "      <th>0</th>\n",
              "      <td>/content/Dataset_Raw/00014/00000_00023.ppm</td>\n",
              "      <td>stop_signal</td>\n",
              "      <td>1</td>\n",
              "    </tr>\n",
              "    <tr>\n",
              "      <th>1</th>\n",
              "      <td>/content/Dataset_Raw/00014/00004_00002.ppm</td>\n",
              "      <td>stop_signal</td>\n",
              "      <td>1</td>\n",
              "    </tr>\n",
              "    <tr>\n",
              "      <th>2</th>\n",
              "      <td>/content/Dataset_Raw/00014/00016_00021.ppm</td>\n",
              "      <td>stop_signal</td>\n",
              "      <td>1</td>\n",
              "    </tr>\n",
              "    <tr>\n",
              "      <th>3</th>\n",
              "      <td>/content/Dataset_Raw/00014/00001_00015.ppm</td>\n",
              "      <td>stop_signal</td>\n",
              "      <td>1</td>\n",
              "    </tr>\n",
              "    <tr>\n",
              "      <th>4</th>\n",
              "      <td>/content/Dataset_Raw/00014/00016_00016.ppm</td>\n",
              "      <td>stop_signal</td>\n",
              "      <td>1</td>\n",
              "    </tr>\n",
              "  </tbody>\n",
              "</table>\n",
              "</div>\n",
              "      <button class=\"colab-df-convert\" onclick=\"convertToInteractive('df-19384eee-adc7-4d8a-b4bb-2eecca7f0035')\"\n",
              "              title=\"Convert this dataframe to an interactive table.\"\n",
              "              style=\"display:none;\">\n",
              "        \n",
              "  <svg xmlns=\"http://www.w3.org/2000/svg\" height=\"24px\"viewBox=\"0 0 24 24\"\n",
              "       width=\"24px\">\n",
              "    <path d=\"M0 0h24v24H0V0z\" fill=\"none\"/>\n",
              "    <path d=\"M18.56 5.44l.94 2.06.94-2.06 2.06-.94-2.06-.94-.94-2.06-.94 2.06-2.06.94zm-11 1L8.5 8.5l.94-2.06 2.06-.94-2.06-.94L8.5 2.5l-.94 2.06-2.06.94zm10 10l.94 2.06.94-2.06 2.06-.94-2.06-.94-.94-2.06-.94 2.06-2.06.94z\"/><path d=\"M17.41 7.96l-1.37-1.37c-.4-.4-.92-.59-1.43-.59-.52 0-1.04.2-1.43.59L10.3 9.45l-7.72 7.72c-.78.78-.78 2.05 0 2.83L4 21.41c.39.39.9.59 1.41.59.51 0 1.02-.2 1.41-.59l7.78-7.78 2.81-2.81c.8-.78.8-2.07 0-2.86zM5.41 20L4 18.59l7.72-7.72 1.47 1.35L5.41 20z\"/>\n",
              "  </svg>\n",
              "      </button>\n",
              "      \n",
              "  <style>\n",
              "    .colab-df-container {\n",
              "      display:flex;\n",
              "      flex-wrap:wrap;\n",
              "      gap: 12px;\n",
              "    }\n",
              "\n",
              "    .colab-df-convert {\n",
              "      background-color: #E8F0FE;\n",
              "      border: none;\n",
              "      border-radius: 50%;\n",
              "      cursor: pointer;\n",
              "      display: none;\n",
              "      fill: #1967D2;\n",
              "      height: 32px;\n",
              "      padding: 0 0 0 0;\n",
              "      width: 32px;\n",
              "    }\n",
              "\n",
              "    .colab-df-convert:hover {\n",
              "      background-color: #E2EBFA;\n",
              "      box-shadow: 0px 1px 2px rgba(60, 64, 67, 0.3), 0px 1px 3px 1px rgba(60, 64, 67, 0.15);\n",
              "      fill: #174EA6;\n",
              "    }\n",
              "\n",
              "    [theme=dark] .colab-df-convert {\n",
              "      background-color: #3B4455;\n",
              "      fill: #D2E3FC;\n",
              "    }\n",
              "\n",
              "    [theme=dark] .colab-df-convert:hover {\n",
              "      background-color: #434B5C;\n",
              "      box-shadow: 0px 1px 3px 1px rgba(0, 0, 0, 0.15);\n",
              "      filter: drop-shadow(0px 1px 2px rgba(0, 0, 0, 0.3));\n",
              "      fill: #FFFFFF;\n",
              "    }\n",
              "  </style>\n",
              "\n",
              "      <script>\n",
              "        const buttonEl =\n",
              "          document.querySelector('#df-19384eee-adc7-4d8a-b4bb-2eecca7f0035 button.colab-df-convert');\n",
              "        buttonEl.style.display =\n",
              "          google.colab.kernel.accessAllowed ? 'block' : 'none';\n",
              "\n",
              "        async function convertToInteractive(key) {\n",
              "          const element = document.querySelector('#df-19384eee-adc7-4d8a-b4bb-2eecca7f0035');\n",
              "          const dataTable =\n",
              "            await google.colab.kernel.invokeFunction('convertToInteractive',\n",
              "                                                     [key], {});\n",
              "          if (!dataTable) return;\n",
              "\n",
              "          const docLinkHtml = 'Like what you see? Visit the ' +\n",
              "            '<a target=\"_blank\" href=https://colab.research.google.com/notebooks/data_table.ipynb>data table notebook</a>'\n",
              "            + ' to learn more about interactive tables.';\n",
              "          element.innerHTML = '';\n",
              "          dataTable['output_type'] = 'display_data';\n",
              "          await google.colab.output.renderOutput(dataTable, element);\n",
              "          const docLink = document.createElement('div');\n",
              "          docLink.innerHTML = docLinkHtml;\n",
              "          element.appendChild(docLink);\n",
              "        }\n",
              "      </script>\n",
              "    </div>\n",
              "  </div>\n",
              "  "
            ]
          },
          "metadata": {},
          "execution_count": 21
        }
      ]
    },
    {
      "cell_type": "code",
      "source": [
        "augmentedDataGen = ImageDataGenerator(\n",
        "rotation_range = 40,\n",
        "width_shift_range = 0.2,\n",
        "height_shift_range = 0.2,\n",
        "shear_range = 0.2,\n",
        "zoom_range=0.2,\n",
        "horizontal_flip=False,\n",
        "vertical_flip = False,\n",
        "validation_split=0.2,\n",
        "fill_mode='nearest',\n",
        "preprocessing_function = imageProcessing \n",
        "\n",
        ")\n",
        "\n",
        "\n",
        "testDataGen = ImageDataGenerator(\n",
        "preprocessing_function = imageProcessing \n",
        "\n",
        ")"
      ],
      "metadata": {
        "id": "nPK5-r6GMoqG"
      },
      "execution_count": 22,
      "outputs": []
    },
    {
      "cell_type": "code",
      "source": [
        "dataset.columns"
      ],
      "metadata": {
        "id": "I7iTdoonYYHA",
        "colab": {
          "base_uri": "https://localhost:8080/"
        },
        "outputId": "ef18b6f7-1597-4a49-a833-f67ebf6ad715"
      },
      "execution_count": 23,
      "outputs": [
        {
          "output_type": "execute_result",
          "data": {
            "text/plain": [
              "Index(['images', 'label', 'encoding'], dtype='object')"
            ]
          },
          "metadata": {},
          "execution_count": 23
        }
      ]
    },
    {
      "cell_type": "code",
      "source": [
        "trainGenerator = augmentedDataGen.flow_from_dataframe(\n",
        "    dataset,\n",
        "    directory=None,\n",
        "    x_col='images',\n",
        "    y_col='label',\n",
        "    target_size=(150, 150),\n",
        "    classes=IMAGE_LABELS,\n",
        "    class_mode='categorical',\n",
        "    batch_size=BATCH_SIZE,\n",
        "    subset = \"training\",\n",
        "    color_mode = \"grayscale\"\n",
        ")\n",
        "\n",
        "validationGenerator = augmentedDataGen.flow_from_dataframe(\n",
        "    dataset,\n",
        "    directory=None,\n",
        "    x_col='images',\n",
        "    y_col='label',\n",
        "    target_size=(150, 150),\n",
        "    classes=IMAGE_LABELS,\n",
        "    class_mode='categorical',\n",
        "    batch_size=BATCH_SIZE,\n",
        "    subset = \"validation\",\n",
        "    color_mode = \"grayscale\"\n",
        "    \n",
        ")\n",
        "\n",
        "testGenerator = testDataGen.flow_from_dataframe(\n",
        "    dataset,\n",
        "    directory=None,\n",
        "    x_col='images',\n",
        "    y_col='label',\n",
        "    target_size=(150, 150),\n",
        "    classes=IMAGE_LABELS,\n",
        "    class_mode='categorical',\n",
        "    batch_size=BATCH_SIZE,\n",
        "    subset = \"validation\",\n",
        "    color_mode = \"grayscale\"\n",
        "    \n",
        ")\n",
        "\n"
      ],
      "metadata": {
        "id": "lDe0pHQEXnIs",
        "colab": {
          "base_uri": "https://localhost:8080/"
        },
        "outputId": "4d635423-c714-4f17-aee6-3ca1ad634cbb"
      },
      "execution_count": 24,
      "outputs": [
        {
          "output_type": "stream",
          "name": "stdout",
          "text": [
            "Found 2952 validated image filenames belonging to 6 classes.\n",
            "Found 737 validated image filenames belonging to 6 classes.\n",
            "Found 0 validated image filenames belonging to 6 classes.\n"
          ]
        },
        {
          "output_type": "stream",
          "name": "stderr",
          "text": [
            "/usr/local/lib/python3.7/dist-packages/keras_preprocessing/image/dataframe_iterator.py:282: UserWarning: Found 6 invalid image filename(s) in x_col=\"images\". These filename(s) will be ignored.\n",
            "  .format(n_invalid, x_col)\n"
          ]
        }
      ]
    },
    {
      "cell_type": "code",
      "source": [
        "\n",
        "dropoutRate = 0.2\n",
        "model = Sequential()\n",
        "\n",
        "model.add(Conv2D(32,kernel_size=3,padding=\"SAME\",activation=\"relu\",input_shape = (150,150,1)))\n",
        "model.add(MaxPool2D(pool_size = 2))\n",
        "model.add(Conv2D(64,kernel_size=3,padding=\"SAME\",activation=\"relu\"))\n",
        "model.add(MaxPool2D(pool_size = 2))\n",
        "model.add(Flatten())\n",
        "model.add(Dense(128,activation=\"relu\"))\n",
        "model.add(Dropout(dropoutRate))\n",
        "model.add(Dense(32,activation=\"relu\"))\n",
        "model.add(Dense(6,activation=\"softmax\"))"
      ],
      "metadata": {
        "id": "byDCn08aWBb8"
      },
      "execution_count": 25,
      "outputs": []
    },
    {
      "cell_type": "code",
      "source": [
        "model.compile(\n",
        "    optimizer = \"rmsprop\",\n",
        "    loss = \"categorical_crossentropy\",\n",
        "    metrics = [\"accuracy\"]\n",
        ")"
      ],
      "metadata": {
        "id": "1fz9rTrPWLhD"
      },
      "execution_count": 26,
      "outputs": []
    },
    {
      "cell_type": "code",
      "source": [
        "def checkModelCheckpointsDir():\n",
        "  if not os.path.exists(MODEL_SAVE_DIRECTORY):\n",
        "    os.chdir(DRIVE_PATH)\n",
        "    os.mkdir(MODEL_SAVE_DIRECTORY)\n",
        "    os.chdir(\"/content/\")"
      ],
      "metadata": {
        "id": "XfMTfPh3ZfSg"
      },
      "execution_count": 27,
      "outputs": []
    },
    {
      "cell_type": "code",
      "source": [
        "checkModelCheckpointsDir()"
      ],
      "metadata": {
        "id": "D0_AwIUiZvRp"
      },
      "execution_count": 28,
      "outputs": []
    },
    {
      "cell_type": "code",
      "source": [
        "check = ModelCheckpoint(filepath=MODEL_SAVE_DIRECTORY,save_weights_only=False,frequency=\"epoch\",monitor = \"val_accuracy\",save_best_only=True,verbose = 1)\n",
        "stop = EarlyStopping(mode=\"max\",patience = 10,min_delta = 0.05,monitor =\"val_accuracy\")"
      ],
      "metadata": {
        "id": "RIs6lfpCZXED"
      },
      "execution_count": 29,
      "outputs": []
    },
    {
      "cell_type": "code",
      "source": [
        ""
      ],
      "metadata": {
        "id": "ZwzgvoYCZZ-t"
      },
      "execution_count": 29,
      "outputs": []
    },
    {
      "cell_type": "code",
      "source": [
        "hist = model.fit(\n",
        "  trainGenerator,\n",
        "  epochs=100,\n",
        "  validation_data=validationGenerator,\n",
        "  steps_per_epoch=trainGenerator.samples // BATCH_SIZE,\n",
        "  validation_steps=validationGenerator.samples // BATCH_SIZE,\n",
        "  callbacks=[check,stop],\n",
        "  verbose = 1\n",
        "  )"
      ],
      "metadata": {
        "id": "IS1aMQWGZZGQ",
        "colab": {
          "base_uri": "https://localhost:8080/",
          "height": 832
        },
        "outputId": "61e06cb3-623e-47d9-a5de-ff99fe5215ce"
      },
      "execution_count": 30,
      "outputs": [
        {
          "output_type": "stream",
          "name": "stdout",
          "text": [
            "Epoch 1/100\n",
            "23/23 [==============================] - ETA: 0s - loss: 2.3995 - accuracy: 0.3541\n",
            "Epoch 1: val_accuracy improved from -inf to 0.00000, saving model to /content/drive/Shareddrives/Semestre6/MODEL_CHECKPOINTS_OCTAVIO\n",
            "INFO:tensorflow:Assets written to: /content/drive/Shareddrives/Semestre6/MODEL_CHECKPOINTS_OCTAVIO/assets\n",
            "23/23 [==============================] - 23s 400ms/step - loss: 2.3995 - accuracy: 0.3541 - val_loss: 3.6549 - val_accuracy: 0.0000e+00\n",
            "Epoch 2/100\n",
            "23/23 [==============================] - ETA: 0s - loss: 1.5104 - accuracy: 0.3906\n",
            "Epoch 2: val_accuracy did not improve from 0.00000\n",
            "23/23 [==============================] - 8s 329ms/step - loss: 1.5104 - accuracy: 0.3906 - val_loss: 4.2407 - val_accuracy: 0.0000e+00\n",
            "Epoch 3/100\n",
            "23/23 [==============================] - ETA: 0s - loss: 1.4760 - accuracy: 0.4044\n",
            "Epoch 3: val_accuracy did not improve from 0.00000\n",
            "23/23 [==============================] - 8s 349ms/step - loss: 1.4760 - accuracy: 0.4044 - val_loss: 3.7583 - val_accuracy: 0.0000e+00\n",
            "Epoch 4/100\n",
            "23/23 [==============================] - ETA: 0s - loss: 1.4291 - accuracy: 0.4164\n",
            "Epoch 4: val_accuracy did not improve from 0.00000\n",
            "23/23 [==============================] - 8s 331ms/step - loss: 1.4291 - accuracy: 0.4164 - val_loss: 2.8123 - val_accuracy: 0.0000e+00\n",
            "Epoch 5/100\n",
            "23/23 [==============================] - ETA: 0s - loss: 1.4330 - accuracy: 0.4295\n",
            "Epoch 5: val_accuracy did not improve from 0.00000\n",
            "23/23 [==============================] - 8s 327ms/step - loss: 1.4330 - accuracy: 0.4295 - val_loss: 3.8905 - val_accuracy: 0.0000e+00\n",
            "Epoch 6/100\n",
            "23/23 [==============================] - ETA: 0s - loss: 1.3694 - accuracy: 0.4557\n",
            "Epoch 6: val_accuracy did not improve from 0.00000\n",
            "23/23 [==============================] - 8s 333ms/step - loss: 1.3694 - accuracy: 0.4557 - val_loss: 4.5199 - val_accuracy: 0.0000e+00\n",
            "Epoch 7/100\n",
            "18/23 [======================>.......] - ETA: 1s - loss: 1.3374 - accuracy: 0.4684"
          ]
        },
        {
          "output_type": "error",
          "ename": "KeyboardInterrupt",
          "evalue": "ignored",
          "traceback": [
            "\u001b[0;31m---------------------------------------------------------------------------\u001b[0m",
            "\u001b[0;31mKeyboardInterrupt\u001b[0m                         Traceback (most recent call last)",
            "\u001b[0;32m<ipython-input-30-0a8e61e5dc80>\u001b[0m in \u001b[0;36m<module>\u001b[0;34m()\u001b[0m\n\u001b[1;32m      6\u001b[0m   \u001b[0mvalidation_steps\u001b[0m\u001b[0;34m=\u001b[0m\u001b[0mvalidationGenerator\u001b[0m\u001b[0;34m.\u001b[0m\u001b[0msamples\u001b[0m \u001b[0;34m//\u001b[0m \u001b[0mBATCH_SIZE\u001b[0m\u001b[0;34m,\u001b[0m\u001b[0;34m\u001b[0m\u001b[0;34m\u001b[0m\u001b[0m\n\u001b[1;32m      7\u001b[0m   \u001b[0mcallbacks\u001b[0m\u001b[0;34m=\u001b[0m\u001b[0;34m[\u001b[0m\u001b[0mcheck\u001b[0m\u001b[0;34m,\u001b[0m\u001b[0mstop\u001b[0m\u001b[0;34m]\u001b[0m\u001b[0;34m,\u001b[0m\u001b[0;34m\u001b[0m\u001b[0;34m\u001b[0m\u001b[0m\n\u001b[0;32m----> 8\u001b[0;31m   \u001b[0mverbose\u001b[0m \u001b[0;34m=\u001b[0m \u001b[0;36m1\u001b[0m\u001b[0;34m\u001b[0m\u001b[0;34m\u001b[0m\u001b[0m\n\u001b[0m\u001b[1;32m      9\u001b[0m   )\n",
            "\u001b[0;32m/usr/local/lib/python3.7/dist-packages/keras/utils/traceback_utils.py\u001b[0m in \u001b[0;36merror_handler\u001b[0;34m(*args, **kwargs)\u001b[0m\n\u001b[1;32m     62\u001b[0m     \u001b[0mfiltered_tb\u001b[0m \u001b[0;34m=\u001b[0m \u001b[0;32mNone\u001b[0m\u001b[0;34m\u001b[0m\u001b[0;34m\u001b[0m\u001b[0m\n\u001b[1;32m     63\u001b[0m     \u001b[0;32mtry\u001b[0m\u001b[0;34m:\u001b[0m\u001b[0;34m\u001b[0m\u001b[0;34m\u001b[0m\u001b[0m\n\u001b[0;32m---> 64\u001b[0;31m       \u001b[0;32mreturn\u001b[0m \u001b[0mfn\u001b[0m\u001b[0;34m(\u001b[0m\u001b[0;34m*\u001b[0m\u001b[0margs\u001b[0m\u001b[0;34m,\u001b[0m \u001b[0;34m**\u001b[0m\u001b[0mkwargs\u001b[0m\u001b[0;34m)\u001b[0m\u001b[0;34m\u001b[0m\u001b[0;34m\u001b[0m\u001b[0m\n\u001b[0m\u001b[1;32m     65\u001b[0m     \u001b[0;32mexcept\u001b[0m \u001b[0mException\u001b[0m \u001b[0;32mas\u001b[0m \u001b[0me\u001b[0m\u001b[0;34m:\u001b[0m  \u001b[0;31m# pylint: disable=broad-except\u001b[0m\u001b[0;34m\u001b[0m\u001b[0;34m\u001b[0m\u001b[0m\n\u001b[1;32m     66\u001b[0m       \u001b[0mfiltered_tb\u001b[0m \u001b[0;34m=\u001b[0m \u001b[0m_process_traceback_frames\u001b[0m\u001b[0;34m(\u001b[0m\u001b[0me\u001b[0m\u001b[0;34m.\u001b[0m\u001b[0m__traceback__\u001b[0m\u001b[0;34m)\u001b[0m\u001b[0;34m\u001b[0m\u001b[0;34m\u001b[0m\u001b[0m\n",
            "\u001b[0;32m/usr/local/lib/python3.7/dist-packages/keras/engine/training.py\u001b[0m in \u001b[0;36mfit\u001b[0;34m(self, x, y, batch_size, epochs, verbose, callbacks, validation_split, validation_data, shuffle, class_weight, sample_weight, initial_epoch, steps_per_epoch, validation_steps, validation_batch_size, validation_freq, max_queue_size, workers, use_multiprocessing)\u001b[0m\n\u001b[1;32m   1382\u001b[0m                 _r=1):\n\u001b[1;32m   1383\u001b[0m               \u001b[0mcallbacks\u001b[0m\u001b[0;34m.\u001b[0m\u001b[0mon_train_batch_begin\u001b[0m\u001b[0;34m(\u001b[0m\u001b[0mstep\u001b[0m\u001b[0;34m)\u001b[0m\u001b[0;34m\u001b[0m\u001b[0;34m\u001b[0m\u001b[0m\n\u001b[0;32m-> 1384\u001b[0;31m               \u001b[0mtmp_logs\u001b[0m \u001b[0;34m=\u001b[0m \u001b[0mself\u001b[0m\u001b[0;34m.\u001b[0m\u001b[0mtrain_function\u001b[0m\u001b[0;34m(\u001b[0m\u001b[0miterator\u001b[0m\u001b[0;34m)\u001b[0m\u001b[0;34m\u001b[0m\u001b[0;34m\u001b[0m\u001b[0m\n\u001b[0m\u001b[1;32m   1385\u001b[0m               \u001b[0;32mif\u001b[0m \u001b[0mdata_handler\u001b[0m\u001b[0;34m.\u001b[0m\u001b[0mshould_sync\u001b[0m\u001b[0;34m:\u001b[0m\u001b[0;34m\u001b[0m\u001b[0;34m\u001b[0m\u001b[0m\n\u001b[1;32m   1386\u001b[0m                 \u001b[0mcontext\u001b[0m\u001b[0;34m.\u001b[0m\u001b[0masync_wait\u001b[0m\u001b[0;34m(\u001b[0m\u001b[0;34m)\u001b[0m\u001b[0;34m\u001b[0m\u001b[0;34m\u001b[0m\u001b[0m\n",
            "\u001b[0;32m/usr/local/lib/python3.7/dist-packages/tensorflow/python/util/traceback_utils.py\u001b[0m in \u001b[0;36merror_handler\u001b[0;34m(*args, **kwargs)\u001b[0m\n\u001b[1;32m    148\u001b[0m     \u001b[0mfiltered_tb\u001b[0m \u001b[0;34m=\u001b[0m \u001b[0;32mNone\u001b[0m\u001b[0;34m\u001b[0m\u001b[0;34m\u001b[0m\u001b[0m\n\u001b[1;32m    149\u001b[0m     \u001b[0;32mtry\u001b[0m\u001b[0;34m:\u001b[0m\u001b[0;34m\u001b[0m\u001b[0;34m\u001b[0m\u001b[0m\n\u001b[0;32m--> 150\u001b[0;31m       \u001b[0;32mreturn\u001b[0m \u001b[0mfn\u001b[0m\u001b[0;34m(\u001b[0m\u001b[0;34m*\u001b[0m\u001b[0margs\u001b[0m\u001b[0;34m,\u001b[0m \u001b[0;34m**\u001b[0m\u001b[0mkwargs\u001b[0m\u001b[0;34m)\u001b[0m\u001b[0;34m\u001b[0m\u001b[0;34m\u001b[0m\u001b[0m\n\u001b[0m\u001b[1;32m    151\u001b[0m     \u001b[0;32mexcept\u001b[0m \u001b[0mException\u001b[0m \u001b[0;32mas\u001b[0m \u001b[0me\u001b[0m\u001b[0;34m:\u001b[0m\u001b[0;34m\u001b[0m\u001b[0;34m\u001b[0m\u001b[0m\n\u001b[1;32m    152\u001b[0m       \u001b[0mfiltered_tb\u001b[0m \u001b[0;34m=\u001b[0m \u001b[0m_process_traceback_frames\u001b[0m\u001b[0;34m(\u001b[0m\u001b[0me\u001b[0m\u001b[0;34m.\u001b[0m\u001b[0m__traceback__\u001b[0m\u001b[0;34m)\u001b[0m\u001b[0;34m\u001b[0m\u001b[0;34m\u001b[0m\u001b[0m\n",
            "\u001b[0;32m/usr/local/lib/python3.7/dist-packages/tensorflow/python/eager/def_function.py\u001b[0m in \u001b[0;36m__call__\u001b[0;34m(self, *args, **kwds)\u001b[0m\n\u001b[1;32m    913\u001b[0m \u001b[0;34m\u001b[0m\u001b[0m\n\u001b[1;32m    914\u001b[0m       \u001b[0;32mwith\u001b[0m \u001b[0mOptionalXlaContext\u001b[0m\u001b[0;34m(\u001b[0m\u001b[0mself\u001b[0m\u001b[0;34m.\u001b[0m\u001b[0m_jit_compile\u001b[0m\u001b[0;34m)\u001b[0m\u001b[0;34m:\u001b[0m\u001b[0;34m\u001b[0m\u001b[0;34m\u001b[0m\u001b[0m\n\u001b[0;32m--> 915\u001b[0;31m         \u001b[0mresult\u001b[0m \u001b[0;34m=\u001b[0m \u001b[0mself\u001b[0m\u001b[0;34m.\u001b[0m\u001b[0m_call\u001b[0m\u001b[0;34m(\u001b[0m\u001b[0;34m*\u001b[0m\u001b[0margs\u001b[0m\u001b[0;34m,\u001b[0m \u001b[0;34m**\u001b[0m\u001b[0mkwds\u001b[0m\u001b[0;34m)\u001b[0m\u001b[0;34m\u001b[0m\u001b[0;34m\u001b[0m\u001b[0m\n\u001b[0m\u001b[1;32m    916\u001b[0m \u001b[0;34m\u001b[0m\u001b[0m\n\u001b[1;32m    917\u001b[0m       \u001b[0mnew_tracing_count\u001b[0m \u001b[0;34m=\u001b[0m \u001b[0mself\u001b[0m\u001b[0;34m.\u001b[0m\u001b[0mexperimental_get_tracing_count\u001b[0m\u001b[0;34m(\u001b[0m\u001b[0;34m)\u001b[0m\u001b[0;34m\u001b[0m\u001b[0;34m\u001b[0m\u001b[0m\n",
            "\u001b[0;32m/usr/local/lib/python3.7/dist-packages/tensorflow/python/eager/def_function.py\u001b[0m in \u001b[0;36m_call\u001b[0;34m(self, *args, **kwds)\u001b[0m\n\u001b[1;32m    945\u001b[0m       \u001b[0;31m# In this case we have created variables on the first call, so we run the\u001b[0m\u001b[0;34m\u001b[0m\u001b[0;34m\u001b[0m\u001b[0;34m\u001b[0m\u001b[0m\n\u001b[1;32m    946\u001b[0m       \u001b[0;31m# defunned version which is guaranteed to never create variables.\u001b[0m\u001b[0;34m\u001b[0m\u001b[0;34m\u001b[0m\u001b[0;34m\u001b[0m\u001b[0m\n\u001b[0;32m--> 947\u001b[0;31m       \u001b[0;32mreturn\u001b[0m \u001b[0mself\u001b[0m\u001b[0;34m.\u001b[0m\u001b[0m_stateless_fn\u001b[0m\u001b[0;34m(\u001b[0m\u001b[0;34m*\u001b[0m\u001b[0margs\u001b[0m\u001b[0;34m,\u001b[0m \u001b[0;34m**\u001b[0m\u001b[0mkwds\u001b[0m\u001b[0;34m)\u001b[0m  \u001b[0;31m# pylint: disable=not-callable\u001b[0m\u001b[0;34m\u001b[0m\u001b[0;34m\u001b[0m\u001b[0m\n\u001b[0m\u001b[1;32m    948\u001b[0m     \u001b[0;32melif\u001b[0m \u001b[0mself\u001b[0m\u001b[0;34m.\u001b[0m\u001b[0m_stateful_fn\u001b[0m \u001b[0;32mis\u001b[0m \u001b[0;32mnot\u001b[0m \u001b[0;32mNone\u001b[0m\u001b[0;34m:\u001b[0m\u001b[0;34m\u001b[0m\u001b[0;34m\u001b[0m\u001b[0m\n\u001b[1;32m    949\u001b[0m       \u001b[0;31m# Release the lock early so that multiple threads can perform the call\u001b[0m\u001b[0;34m\u001b[0m\u001b[0;34m\u001b[0m\u001b[0;34m\u001b[0m\u001b[0m\n",
            "\u001b[0;32m/usr/local/lib/python3.7/dist-packages/tensorflow/python/eager/function.py\u001b[0m in \u001b[0;36m__call__\u001b[0;34m(self, *args, **kwargs)\u001b[0m\n\u001b[1;32m   2955\u001b[0m        filtered_flat_args) = self._maybe_define_function(args, kwargs)\n\u001b[1;32m   2956\u001b[0m     return graph_function._call_flat(\n\u001b[0;32m-> 2957\u001b[0;31m         filtered_flat_args, captured_inputs=graph_function.captured_inputs)  # pylint: disable=protected-access\n\u001b[0m\u001b[1;32m   2958\u001b[0m \u001b[0;34m\u001b[0m\u001b[0m\n\u001b[1;32m   2959\u001b[0m   \u001b[0;34m@\u001b[0m\u001b[0mproperty\u001b[0m\u001b[0;34m\u001b[0m\u001b[0;34m\u001b[0m\u001b[0m\n",
            "\u001b[0;32m/usr/local/lib/python3.7/dist-packages/tensorflow/python/eager/function.py\u001b[0m in \u001b[0;36m_call_flat\u001b[0;34m(self, args, captured_inputs, cancellation_manager)\u001b[0m\n\u001b[1;32m   1852\u001b[0m       \u001b[0;31m# No tape is watching; skip to running the function.\u001b[0m\u001b[0;34m\u001b[0m\u001b[0;34m\u001b[0m\u001b[0;34m\u001b[0m\u001b[0m\n\u001b[1;32m   1853\u001b[0m       return self._build_call_outputs(self._inference_function.call(\n\u001b[0;32m-> 1854\u001b[0;31m           ctx, args, cancellation_manager=cancellation_manager))\n\u001b[0m\u001b[1;32m   1855\u001b[0m     forward_backward = self._select_forward_and_backward_functions(\n\u001b[1;32m   1856\u001b[0m         \u001b[0margs\u001b[0m\u001b[0;34m,\u001b[0m\u001b[0;34m\u001b[0m\u001b[0;34m\u001b[0m\u001b[0m\n",
            "\u001b[0;32m/usr/local/lib/python3.7/dist-packages/tensorflow/python/eager/function.py\u001b[0m in \u001b[0;36mcall\u001b[0;34m(self, ctx, args, cancellation_manager)\u001b[0m\n\u001b[1;32m    502\u001b[0m               \u001b[0minputs\u001b[0m\u001b[0;34m=\u001b[0m\u001b[0margs\u001b[0m\u001b[0;34m,\u001b[0m\u001b[0;34m\u001b[0m\u001b[0;34m\u001b[0m\u001b[0m\n\u001b[1;32m    503\u001b[0m               \u001b[0mattrs\u001b[0m\u001b[0;34m=\u001b[0m\u001b[0mattrs\u001b[0m\u001b[0;34m,\u001b[0m\u001b[0;34m\u001b[0m\u001b[0;34m\u001b[0m\u001b[0m\n\u001b[0;32m--> 504\u001b[0;31m               ctx=ctx)\n\u001b[0m\u001b[1;32m    505\u001b[0m         \u001b[0;32melse\u001b[0m\u001b[0;34m:\u001b[0m\u001b[0;34m\u001b[0m\u001b[0;34m\u001b[0m\u001b[0m\n\u001b[1;32m    506\u001b[0m           outputs = execute.execute_with_cancellation(\n",
            "\u001b[0;32m/usr/local/lib/python3.7/dist-packages/tensorflow/python/eager/execute.py\u001b[0m in \u001b[0;36mquick_execute\u001b[0;34m(op_name, num_outputs, inputs, attrs, ctx, name)\u001b[0m\n\u001b[1;32m     53\u001b[0m     \u001b[0mctx\u001b[0m\u001b[0;34m.\u001b[0m\u001b[0mensure_initialized\u001b[0m\u001b[0;34m(\u001b[0m\u001b[0;34m)\u001b[0m\u001b[0;34m\u001b[0m\u001b[0;34m\u001b[0m\u001b[0m\n\u001b[1;32m     54\u001b[0m     tensors = pywrap_tfe.TFE_Py_Execute(ctx._handle, device_name, op_name,\n\u001b[0;32m---> 55\u001b[0;31m                                         inputs, attrs, num_outputs)\n\u001b[0m\u001b[1;32m     56\u001b[0m   \u001b[0;32mexcept\u001b[0m \u001b[0mcore\u001b[0m\u001b[0;34m.\u001b[0m\u001b[0m_NotOkStatusException\u001b[0m \u001b[0;32mas\u001b[0m \u001b[0me\u001b[0m\u001b[0;34m:\u001b[0m\u001b[0;34m\u001b[0m\u001b[0;34m\u001b[0m\u001b[0m\n\u001b[1;32m     57\u001b[0m     \u001b[0;32mif\u001b[0m \u001b[0mname\u001b[0m \u001b[0;32mis\u001b[0m \u001b[0;32mnot\u001b[0m \u001b[0;32mNone\u001b[0m\u001b[0;34m:\u001b[0m\u001b[0;34m\u001b[0m\u001b[0;34m\u001b[0m\u001b[0m\n",
            "\u001b[0;31mKeyboardInterrupt\u001b[0m: "
          ]
        }
      ]
    }
  ]
}